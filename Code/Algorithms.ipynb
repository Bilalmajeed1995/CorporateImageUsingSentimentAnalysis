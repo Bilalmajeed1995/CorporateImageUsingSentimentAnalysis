{
 "cells": [
  {
   "cell_type": "code",
   "execution_count": 1,
   "metadata": {},
   "outputs": [],
   "source": [
    "import pandas as pd\n",
    "import re\n",
    "import nltk\n",
    "import unicodedata\n",
    "import os\n",
    "\n",
    "from nltk.sentiment.vader import SentimentIntensityAnalyzer\n",
    "from textblob import TextBlob\n",
    "from google.cloud import language_v1"
   ]
  },
  {
   "cell_type": "code",
   "execution_count": 2,
   "metadata": {},
   "outputs": [],
   "source": [
    "analyzer = SentimentIntensityAnalyzer()"
   ]
  },
  {
   "cell_type": "code",
   "execution_count": 2,
   "metadata": {},
   "outputs": [],
   "source": [
    "def clean_strings(text):\n",
    "    text = ' '.join(re.sub(\"(#[A-Za-z0-9]+)|(@[A-Za-z0-9]+)|([^0-9A-Za-z \\t])|(\\w+:\\/\\/\\S+)\",\" \",text).split())\n",
    "    return text\n",
    "\n",
    "def tokenization(text):\n",
    "    text = re.split('\\W+', text)\n",
    "    return text\n",
    "\n",
    "def remove_stopwords(text):\n",
    "    stopwords = nltk.corpus.stopwords.words('english') + ['amp']\n",
    "    text = [word for word in text if word not in stopwords]\n",
    "    return text\n",
    "\n",
    "def join_tokens(text):\n",
    "    text = ' '.join(text)\n",
    "    return text"
   ]
  },
  {
   "cell_type": "code",
   "execution_count": 3,
   "metadata": {},
   "outputs": [],
   "source": [
    "company_df = pd.read_csv('../Data/company_map.csv')"
   ]
  },
  {
   "cell_type": "code",
   "execution_count": null,
   "metadata": {},
   "outputs": [],
   "source": [
    "tweets_df = pd.read_csv('../Data/tweets.csv')\n",
    "tweets_df = tweets_df.drop(['Tweet Id'], axis=1)\n",
    "\n",
    "tweets_df['Text'] = tweets_df['Text'].apply(lambda x: clean_strings(x))\n",
    "tweets_df['Text'] = tweets_df['Text'].apply(lambda x: tokenization(x.lower()))\n",
    "tweets_df['Text'] = tweets_df['Text'].apply(lambda x: remove_stopwords(x))\n",
    "tweets_df['Text'] = tweets_df['Text'].apply(lambda x: join_tokens(x))\n",
    "\n",
    "tweets_df = tweets_df.merge(company_df[['Company', 'TweetKey']], left_on='Tag', right_on='TweetKey')\n",
    "tweets_df = tweets_df.drop(['Tag', 'TweetKey', 'Datetime'], axis=1)"
   ]
  },
  {
   "cell_type": "code",
   "execution_count": null,
   "metadata": {},
   "outputs": [],
   "source": [
    "news_df = pd.read_csv('../Data/google_articles.csv', encoding = \"ISO-8859-1\")\n",
    "news_df = news_df.drop(['link', 'title'], axis=1)\n",
    "\n",
    "news_df['nlp_summary'] = news_df['nlp_summary'].apply(lambda x: clean_strings(x))\n",
    "news_df['nlp_summary'] = news_df['nlp_summary'].apply(lambda x: tokenization(x.lower()))\n",
    "news_df['nlp_summary'] = news_df['nlp_summary'].apply(lambda x: remove_stopwords(x))\n",
    "news_df['nlp_summary'] = news_df['nlp_summary'].apply(lambda x: join_tokens(x))\n",
    "\n",
    "news_df = news_df.merge(company_df[['Company', 'NewsKey']], left_on='company', right_on='NewsKey')\n",
    "news_df = news_df.drop(['company', 'NewsKey', 'publish date'], axis=1)"
   ]
  },
  {
   "cell_type": "code",
   "execution_count": null,
   "metadata": {},
   "outputs": [],
   "source": [
    "blogs_df = pd.read_csv('../Data/huffpost_articles.csv', encoding = \"ISO-8859-1\")\n",
    "blogs_df = blogs_df.drop(['link', 'title', 'description'], axis=1)\n",
    "\n",
    "blogs_df['nlp_summary'] = blogs_df['nlp_summary'].apply(lambda x: clean_strings(x))\n",
    "blogs_df['nlp_summary'] = blogs_df['nlp_summary'].apply(lambda x: tokenization(x.lower()))\n",
    "blogs_df['nlp_summary'] = blogs_df['nlp_summary'].apply(lambda x: remove_stopwords(x))\n",
    "blogs_df['nlp_summary'] = blogs_df['nlp_summary'].apply(lambda x: join_tokens(x))\n",
    "\n",
    "blogs_df = blogs_df.merge(company_df[['Company', 'BlogKey']], left_on='company', right_on='BlogKey')\n",
    "blogs_df = blogs_df.drop(['company', 'BlogKey', 'publish date'], axis=1)"
   ]
  },
  {
   "cell_type": "code",
   "execution_count": 4,
   "metadata": {},
   "outputs": [],
   "source": [
    "reviews_df = pd.read_csv('../Data/yelp_reviews.csv')\n",
    "\n",
    "reviews_df['text'] = reviews_df['text'].apply(lambda x: clean_strings(x))\n",
    "reviews_df['text'] = reviews_df['text'].apply(lambda x: tokenization(x.lower()))\n",
    "reviews_df['text'] = reviews_df['text'].apply(lambda x: remove_stopwords(x))\n",
    "reviews_df['text'] = reviews_df['text'].apply(lambda x: join_tokens(x))"
   ]
  },
  {
   "cell_type": "code",
   "execution_count": 5,
   "metadata": {},
   "outputs": [],
   "source": [
    "analyzer = SentimentIntensityAnalyzer()"
   ]
  },
  {
   "cell_type": "code",
   "execution_count": null,
   "metadata": {},
   "outputs": [],
   "source": [
    "tweets_df['VADER'] = tweets_df['Text'].apply(lambda tweet: analyzer.polarity_scores(tweet))\n",
    "tweets_df['VADER'] = tweets_df['VADER'].apply(lambda score_dict: score_dict['compound'])\n",
    "\n",
    "news_df['VADER'] = news_df['nlp_summary'].apply(lambda summary: analyzer.polarity_scores(summary))\n",
    "news_df['VADER'] = news_df['VADER'].apply(lambda score_dict: score_dict['compound'])\n",
    "\n",
    "blogs_df['VADER'] = blogs_df['nlp_summary'].apply(lambda summary: analyzer.polarity_scores(summary))\n",
    "blogs_df['VADER'] = blogs_df['VADER'].apply(lambda score_dict: score_dict['compound'])\n",
    "\n",
    "reviews_df['VADER'] = reviews_df['text'].apply(lambda review: analyzer.polarity_scores(review))\n",
    "reviews_df['VADER'] = reviews_df['VADER'].apply(lambda score_dict: score_dict['compound'])"
   ]
  },
  {
   "cell_type": "code",
   "execution_count": null,
   "metadata": {},
   "outputs": [],
   "source": [
    "tweets_df['TextBlob'] = tweets_df['Text'].apply(lambda tweet: TextBlob(tweet).sentiment.polarity)\n",
    "\n",
    "news_df['TextBlob'] = news_df['nlp_summary'].apply(lambda summary: TextBlob(summary).sentiment.polarity)\n",
    "\n",
    "blogs_df['TextBlob'] = blogs_df['nlp_summary'].apply(lambda summary: TextBlob(summary).sentiment.polarity)\n",
    "\n",
    "reviews_df['TextBlob'] = reviews_df['text'].apply(lambda review: TextBlob(review).sentiment.polarity)"
   ]
  },
  {
   "cell_type": "code",
   "execution_count": 7,
   "metadata": {},
   "outputs": [],
   "source": [
    "os.environ[\"GOOGLE_APPLICATION_CREDENTIALS\"]=\"/Users/bilalmajeed/Desktop/MRP/code/key.json\"\n",
    "\n",
    "def analyze_text_sentiment(text):\n",
    "    try:\n",
    "        client = language_v1.LanguageServiceClient()\n",
    "        document = language_v1.Document(content=text, type_=language_v1.Document.Type.PLAIN_TEXT)\n",
    "        response = client.analyze_sentiment(document=document)\n",
    "        sentiment = response.document_sentiment.score\n",
    "    except:\n",
    "        sentiment = -99\n",
    "\n",
    "    return sentiment"
   ]
  },
  {
   "cell_type": "code",
   "execution_count": null,
   "metadata": {},
   "outputs": [],
   "source": [
    "tweets_df['GoogleAPI'] = tweets_df['Text'].apply(lambda tweet: analyze_text_sentiment(tweet))\n",
    "\n",
    "news_df['GoogleAPI'] = news_df['nlp_summary'].apply(lambda summary: analyze_text_sentiment(summary))\n",
    "\n",
    "blogs_df['GoogleAPI'] = blogs_df['nlp_summary'].apply(lambda summary: analyze_text_sentiment(summary))\n",
    "\n",
    "reviews_df['GoogleAPI'] = reviews_df['text'].apply(lambda review: analyze_text_sentiment(review))"
   ]
  },
  {
   "cell_type": "code",
   "execution_count": null,
   "metadata": {},
   "outputs": [],
   "source": [
    "tweets_df.to_csv('../Sentiments/raw_sentiments/tweet_sentiments.csv', index=False, header=True)\n",
    "news_df.to_csv('../Sentiments/raw_sentiments/news_sentiments.csv', index=False, header=True)\n",
    "blogs_df.to_csv('../Sentiments/raw_sentiments/blogs_sentiments.csv', index=False, header=True)\n",
    "reviews_df.to_csv('../Sentiments/raw_sentiments/reviews_sentiments.csv', index=False, header=True)"
   ]
  },
  {
   "cell_type": "code",
   "execution_count": null,
   "metadata": {},
   "outputs": [],
   "source": [
    "tweets_df = tweets_df.drop([\"Text\"], axis=1)\n",
    "tweets_df = tweets_df.groupby('Company').mean()\n",
    "tweets_df.to_csv(\"../Sentiments/tweets_company_sentiment.csv\")\n",
    "\n",
    "blogs_df = blogs_df.drop([\"nlp_summary\"], axis=1)\n",
    "blogs_df = blogs_df.groupby('Company').mean()\n",
    "blogs_df.to_csv(\"../Sentiments/blogs_company_sentiment.csv\")\n",
    "\n",
    "news_df = news_df.drop([\"nlp_summary\"], axis=1)\n",
    "news_df = news_df.groupby('Company').mean()\n",
    "news_df.to_csv(\"../Sentiments/news_company_sentiment.csv\")\n",
    "\n",
    "reviews_df = reviews_df.drop([\"text\"], axis=1)\n",
    "reviews_df = reviews_df.groupby('Company').mean()\n",
    "reviews_df.to_csv(\"../Sentiments/reviews_company_sentiment.csv\")"
   ]
  }
 ],
 "metadata": {
  "kernelspec": {
   "display_name": "Python 3",
   "language": "python",
   "name": "python3"
  },
  "language_info": {
   "codemirror_mode": {
    "name": "ipython",
    "version": 3
   },
   "file_extension": ".py",
   "mimetype": "text/x-python",
   "name": "python",
   "nbconvert_exporter": "python",
   "pygments_lexer": "ipython3",
   "version": "3.8.5"
  }
 },
 "nbformat": 4,
 "nbformat_minor": 4
}
