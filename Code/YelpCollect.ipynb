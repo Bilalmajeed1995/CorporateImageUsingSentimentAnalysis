{
 "cells": [
  {
   "cell_type": "code",
   "execution_count": 1,
   "metadata": {},
   "outputs": [],
   "source": [
    "import pandas as pd"
   ]
  },
  {
   "cell_type": "code",
   "execution_count": 2,
   "metadata": {},
   "outputs": [],
   "source": [
    "business_json_path = '../Data/raw_data/business.json'\n",
    "df_b = pd.read_json(business_json_path, lines=True)"
   ]
  },
  {
   "cell_type": "code",
   "execution_count": 3,
   "metadata": {},
   "outputs": [],
   "source": [
    "apple_yelp_b = df_b[df_b['name'].str.contains(\"Apple Store\")][['business_id','name']]\n",
    "microsoft_yelp_b = df_b[df_b['name'].str.contains(\"Microsoft Store\")][['business_id','name']]\n",
    "gamestop_yelp_b = df_b[df_b['name'].str.contains(\"GameStop\")][['business_id','name']]\n",
    "merc_yelp_b = df_b[df_b['name'].str.contains(\"Mercedes-Benz\")][['business_id','name']]\n",
    "tesla_yelp_b = df_b[df_b['name'].str.contains(\"Tesla Motors\")][['business_id','name']]\n",
    "toyota_yelp_b = df_b[df_b['name'].str.contains(\"Toyota\")][['business_id','name']]\n",
    "nike_yelp_b = df_b[df_b['name'].str.startswith(\"Nike\")][['business_id','name']]\n",
    "adidas_yelp_b = df_b[df_b['name'].str.startswith(\"Adidas\")][['business_id','name']]\n",
    "walmart_yelp_b = df_b[df_b['name'].str.contains(\"Walmart\")][['business_id','name']]\n",
    "target_yelp_b = df_b[(df_b['name'] == \"Target\") | \n",
    "                     (df_b['name'] == \"Target Optical\")][['business_id','name']]\n",
    "homedepot_yelp_b = df_b[df_b['name'].str.contains(\"Home Depot\")][['business_id','name']]\n",
    "bestbuy_yelp_b = df_b[df_b['name'].str.startswith(\"Best Buy\")][['business_id','name']]\n",
    "costco_yelp_b = df_b[df_b['name'].str.startswith(\"Costco\")][['business_id','name']]\n",
    "hyatt_yelp_b = df_b[df_b['name'].str.startswith(\"Hyatt\")][['business_id','name']]\n",
    "marriott_yelp_b = df_b[df_b['name'].str.startswith(\"Marriott\")][['business_id','name']]\n",
    "verizon_yelp_b = df_b[df_b['name'] == \"Verizon\"][['business_id','name']]\n",
    "rogers_yelp_b = df_b[df_b['name'].str.startswith(\"Rogers Wireless\")][['business_id','name']]\n",
    "atnt_yelp_b = df_b[df_b['name'].str.contains(\"AT&T\")][['business_id','name']]\n",
    "citi_yelp_b = df_b[(df_b['name'].str.startswith(\"Citibank\"))][['business_id','name']]\n",
    "jpmorgan_yelp_b = df_b[df_b['name'].str.contains(\"JP Morgan\")][['business_id','name']]\n",
    "wellsfargo_yelp_b = df_b[(df_b['name'].str.contains(\"Wells Fargo\")) & \n",
    "                         (df_b['name'] != \"Wells Fargo Museum\")][['business_id','name']]\n",
    "mcdonalds_yelp_b = df_b[df_b['name'].str.contains(\"McDonald's\")][['business_id','name']]\n",
    "cineplex_yelp_b = df_b[df_b['name'].str.contains(\"Cineplex\")][['business_id','name']]\n",
    "starbucks_yelp_b = df_b[df_b['name'] == \"Starbucks\"][['business_id','name']]\n",
    "berkshire_yelp_b = df_b[df_b['name'].str.contains(\"Berkshire Hathaway\")][['business_id','name']]\n",
    "delta_yelp_b = df_b[df_b['name'].str.contains(\"Delta Airlines\")][['business_id','name']]\n",
    "statefarm_yelp_b = df_b[df_b['name'].str.contains(\"State Farm Insurance\")][['business_id','name']]\n",
    "allstate_yelp_b = df_b[df_b['name'].str.contains(\"Allstate\")][['business_id','name']]\n",
    "cvs_yelp_b = df_b[df_b['name'].str.contains(\"CVS\")][['business_id','name']]"
   ]
  },
  {
   "cell_type": "code",
   "execution_count": 4,
   "metadata": {},
   "outputs": [],
   "source": [
    "df_r01 = pd.read_json('../Data/raw_data/review01.json', lines=True)\n",
    "df_r01 = df_r01[[\"business_id\", \"stars\", \"text\"]]\n",
    "df_r02 = pd.read_json('../Data/raw_data/review02.json', lines=True)\n",
    "df_r02 = df_r02[[\"business_id\", \"stars\", \"text\"]]\n",
    "df_r03 = pd.read_json('../Data/raw_data/review03.json', lines=True)\n",
    "df_r03 = df_r03[[\"business_id\", \"stars\", \"text\"]]\n",
    "df_r04 = pd.read_json('../Data/raw_data/review04.json', lines=True)\n",
    "df_r04 = df_r04[[\"business_id\", \"stars\", \"text\"]]\n",
    "df_r05 = pd.read_json('../Data/raw_data/review05.json', lines=True)\n",
    "df_r05 = df_r05[[\"business_id\", \"stars\", \"text\"]]\n",
    "df_r06 = pd.read_json('../Data/raw_data/review06.json', lines=True)\n",
    "df_r06 = df_r06[[\"business_id\", \"stars\", \"text\"]]\n",
    "df_r07 = pd.read_json('../Data/raw_data/review07.json', lines=True)\n",
    "df_r07 = df_r07[[\"business_id\", \"stars\", \"text\"]]\n",
    "df_r08 = pd.read_json('../Data/raw_data/review08.json', lines=True)\n",
    "df_r08 = df_r08[[\"business_id\", \"stars\", \"text\"]]\n",
    "df_r09 = pd.read_json('../Data/raw_data/review09.json', lines=True)\n",
    "df_r09 = df_r09[[\"business_id\", \"stars\", \"text\"]]\n",
    "df_r10 = pd.read_json('../Data/raw_data/review10.json', lines=True)\n",
    "df_r10 = df_r10[[\"business_id\", \"stars\", \"text\"]]\n",
    "df_r11 = pd.read_json('../Data/raw_data/review11.json', lines=True)\n",
    "df_r11 = df_r11[[\"business_id\", \"stars\", \"text\"]]\n",
    "df_r12 = pd.read_json('../Data/raw_data/review12.json', lines=True)\n",
    "df_r12 = df_r12[[\"business_id\", \"stars\", \"text\"]]\n",
    "df_r13 = pd.read_json('../Data/raw_data/review13.json', lines=True)\n",
    "df_r13 = df_r13[[\"business_id\", \"stars\", \"text\"]]"
   ]
  },
  {
   "cell_type": "code",
   "execution_count": 5,
   "metadata": {},
   "outputs": [],
   "source": [
    "df_r = pd.concat([df_r01, df_r02, df_r03, df_r04, df_r05, df_r06, df_r07,\n",
    "                  df_r08, df_r09, df_r10, df_r11, df_r12, df_r13], ignore_index=True)"
   ]
  },
  {
   "cell_type": "code",
   "execution_count": null,
   "metadata": {},
   "outputs": [],
   "source": [
    "df_yelp = pd.concat([apple_yelp_b, microsoft_yelp_b, gamestop_yelp_b, merc_yelp_b, tesla_yelp_b, \n",
    "                     toyota_yelp_b, nike_yelp_b, adidas_yelp_b, walmart_yelp_b, target_yelp_b,\n",
    "                     homedepot_yelp_b, bestbuy_yelp_b, costco_yelp_b, hyatt_yelp_b, \n",
    "                     marriott_yelp_b, verizon_yelp_b, rogers_yelp_b, atnt_yelp_b, \n",
    "                     citi_yelp_b, jpmorgan_yelp_b, wellsfargo_yelp_b, mcdonalds_yelp_b, \n",
    "                     cineplex_yelp_b, starbucks_yelp_b, berkshire_yelp_b, delta_yelp_b, \n",
    "                     statefarm_yelp_b, allstate_yelp_b, cvs_yelp_b], ignore_index=True)"
   ]
  },
  {
   "cell_type": "code",
   "execution_count": null,
   "metadata": {},
   "outputs": [],
   "source": [
    "df_yelp = df_yelp.merge(df_r, left_on='business_id', right_on='business_id')\n",
    "df_yelp"
   ]
  },
  {
   "cell_type": "code",
   "execution_count": null,
   "metadata": {},
   "outputs": [],
   "source": [
    "df_yelp.to_csv('../Data/yelp_reviews.csv', index=False, header=True)"
   ]
  }
 ],
 "metadata": {
  "kernelspec": {
   "display_name": "Python 3",
   "language": "python",
   "name": "python3"
  },
  "language_info": {
   "codemirror_mode": {
    "name": "ipython",
    "version": 3
   },
   "file_extension": ".py",
   "mimetype": "text/x-python",
   "name": "python",
   "nbconvert_exporter": "python",
   "pygments_lexer": "ipython3",
   "version": "3.8.5"
  }
 },
 "nbformat": 4,
 "nbformat_minor": 4
}
